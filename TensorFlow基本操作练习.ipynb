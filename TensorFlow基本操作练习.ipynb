{
  "nbformat": 4,
  "nbformat_minor": 0,
  "metadata": {
    "colab": {
      "name": "TensorFlow基本操作连系.ipynb",
      "version": "0.3.2",
      "provenance": [],
      "include_colab_link": true
    },
    "kernelspec": {
      "name": "python3",
      "display_name": "Python 3"
    },
    "accelerator": "GPU"
  },
  "cells": [
    {
      "cell_type": "markdown",
      "metadata": {
        "id": "view-in-github",
        "colab_type": "text"
      },
      "source": [
        "<a href=\"https://colab.research.google.com/github/finperor/tensorflow-/blob/master/TensorFlow%E5%9F%BA%E6%9C%AC%E6%93%8D%E4%BD%9C%E7%BB%83%E4%B9%A0.ipynb\" target=\"_parent\"><img src=\"https://colab.research.google.com/assets/colab-badge.svg\" alt=\"Open In Colab\"/></a>"
      ]
    },
    {
      "metadata": {
        "id": "uiW-Yo5WeTVb",
        "colab_type": "text"
      },
      "cell_type": "markdown",
      "source": [
        "TensorFlow基本操作练习"
      ]
    },
    {
      "metadata": {
        "id": "ZYc1RXS5ejYd",
        "colab_type": "code",
        "colab": {}
      },
      "cell_type": "code",
      "source": [
        "import tensorflow as tf\n",
        "import numpy as np"
      ],
      "execution_count": 0,
      "outputs": []
    },
    {
      "metadata": {
        "id": "OXIBGNzheqT1",
        "colab_type": "code",
        "colab": {
          "base_uri": "https://localhost:8080/",
          "height": 208
        },
        "outputId": "80a8e60b-abac-40b9-ae9f-53efec2b29d0"
      },
      "cell_type": "code",
      "source": [
        "x_data = np.random.rand(100)\n",
        "y_data = x_data * 0.8 + 3.2\n",
        "\n",
        "k=tf.Variable(0.)\n",
        "b=tf.Variable(0.)\n",
        "y=k*x_data+b\n",
        "loss=tf.reduce_mean(tf.square(y-y_data))\n",
        "optimizer=tf.train.GradientDescentOptimizer(0.2)\n",
        "train=optimizer.minimize(loss)\n",
        "init=tf.global_variables_initializer()\n",
        "\n",
        "with tf.Session() as sess:\n",
        "  sess.run(init)\n",
        "  for step in range(200):\n",
        "    sess.run(train)\n",
        "    if step%20==0:\n",
        "      print(step,sess.run([k,b]),sess.run(loss))"
      ],
      "execution_count": 14,
      "outputs": [
        {
          "output_type": "stream",
          "text": [
            "0 [0.72306037, 1.4354352] 3.2474551\n",
            "20 [1.1921109, 2.9964187] 0.012577445\n",
            "40 [1.0325972, 3.0792382] 0.0044257017\n",
            "60 [0.93797463, 3.128365] 0.0015572985\n",
            "80 [0.8818454, 3.1575067] 0.0005479768\n",
            "100 [0.84855014, 3.1747932] 0.00019282167\n",
            "120 [0.82879937, 3.1850476] 6.784829e-05\n",
            "140 [0.8170835, 3.1911304] 2.3874054e-05\n",
            "160 [0.8101337, 3.1947386] 8.40067e-06\n",
            "180 [0.8060112, 3.196879] 2.9559667e-06\n"
          ],
          "name": "stdout"
        }
      ]
    }
  ]
}